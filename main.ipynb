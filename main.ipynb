{
 "cells": [
  {
   "cell_type": "code",
   "execution_count": 4,
   "id": "f2a28fa5",
   "metadata": {},
   "outputs": [
    {
     "name": "stdout",
     "output_type": "stream",
     "text": [
      "The autoreload extension is already loaded. To reload it, use:\n",
      "  %reload_ext autoreload\n"
     ]
    }
   ],
   "source": [
    "%load_ext autoreload\n",
    "%autoreload 2"
   ]
  },
  {
   "cell_type": "code",
   "execution_count": 5,
   "id": "27a753da",
   "metadata": {},
   "outputs": [],
   "source": [
    "import os\n",
    "import numpy as np\n",
    "from concurrent.futures import ThreadPoolExecutor\n",
    "import winsound\n",
    "os.environ[\"OPENCV_VIDEOIO_MSMF_ENABLE_HW_TRANSFORMS\"] = \"0\"\n",
    "import cv2\n",
    "\n",
    "from hand_task import HAND_TASK\n",
    "from cell_phone_task import CELL_PHONE_TASK\n",
    "from head_task import HEAD_DIRECTION_TASK\n",
    "from iris_task import IRIS_TASK\n",
    "\n",
    "\n",
    "iris_task = IRIS_TASK()\n",
    "cell_phone_task = CELL_PHONE_TASK()\n",
    "head_dir_task  = HEAD_DIRECTION_TASK()\n",
    "hand_task = HAND_TASK()\n",
    "tasks = [iris_task.process, cell_phone_task.process, head_dir_task.process, hand_task.process]"
   ]
  },
  {
   "cell_type": "code",
   "execution_count": 6,
   "id": "651be3e2",
   "metadata": {},
   "outputs": [],
   "source": [
    "class WinSoundController:\n",
    "    def __init__(self, wav_path: str):\n",
    "        self.wav_path = wav_path\n",
    "        self._on = False\n",
    "    def set_on(self, on: bool):\n",
    "        if on and not self._on:\n",
    "            winsound.PlaySound(self.wav_path,\n",
    "                               winsound.SND_FILENAME | winsound.SND_ASYNC | winsound.SND_LOOP)\n",
    "            self._on = True\n",
    "        elif not on and self._on:\n",
    "            winsound.PlaySound(None, winsound.SND_PURGE)\n",
    "            self._on = False\n",
    "\n",
    "\n",
    "def add_label(res):\n",
    "    label = res[1]\n",
    "    color = (0,0,255) if res[0] else (255,0,0)  # keep your colors\n",
    "    cv2.putText(res[2], label, (10,30), cv2.FONT_HERSHEY_SIMPLEX, 1, color, 2)\n",
    "    return res[2]"
   ]
  },
  {
   "cell_type": "code",
   "execution_count": 9,
   "id": "77f4b0f4",
   "metadata": {},
   "outputs": [],
   "source": [
    "cap = cv2.VideoCapture(1)\n",
    "cap.set(cv2.CAP_PROP_BUFFERSIZE, 1)\n",
    "\n",
    "\n",
    "# Use a WAV file for reliable start/stop control\n",
    "sound = WinSoundController('alert.wav')\n",
    "verbose = True\n",
    "\n",
    "with ThreadPoolExecutor(max_workers=len(tasks)) as pool:\n",
    "    while cap.isOpened():\n",
    "        ret, frame = cap.read()\n",
    "        if not ret:\n",
    "            break\n",
    "\n",
    "        futures = [pool.submit(func, frame.copy()) for func in tasks]\n",
    "        results = [f.result() for f in futures]\n",
    "\n",
    "        if verbose:\n",
    "            concat_images = [add_label(res) for res in results]\n",
    "            result_image = np.concatenate(\n",
    "                (\n",
    "                    np.concatenate((concat_images[0], concat_images[1]), axis=1),\n",
    "                    np.concatenate((concat_images[2], concat_images[3]), axis=1)\n",
    "                ), axis=0\n",
    "            )\n",
    "            cv2.imshow('result', result_image)\n",
    "\n",
    "            # --- SOUND LOGIC: play once while any alert is True; stop when all False ---\n",
    "            bad_flag = any(res[0] for res in results)\n",
    "            sound.set_on(bad_flag)\n",
    "\n",
    "        key = cv2.waitKey(1) & 0xFF\n",
    "        if key == ord('q'):\n",
    "            break\n",
    "# ensure sound is stopped on exit\n",
    "sound.set_on(False)\n",
    "cv2.destroyAllWindows()\n",
    "cap.release()"
   ]
  },
  {
   "cell_type": "code",
   "execution_count": null,
   "id": "3826ce2e",
   "metadata": {},
   "outputs": [
    {
     "ename": "BrokenProcessPool",
     "evalue": "A child process terminated abruptly, the process pool is not usable anymore",
     "output_type": "error",
     "traceback": [
      "\u001b[1;31m---------------------------------------------------------------------------\u001b[0m",
      "\u001b[1;31mBrokenProcessPool\u001b[0m                         Traceback (most recent call last)",
      "Cell \u001b[1;32mIn[10], line 109\u001b[0m\n\u001b[0;32m    107\u001b[0m \u001b[38;5;28;01mif\u001b[39;00m \u001b[38;5;129;01mnot\u001b[39;00m ok:\n\u001b[0;32m    108\u001b[0m     \u001b[38;5;28;01mcontinue\u001b[39;00m\n\u001b[1;32m--> 109\u001b[0m fut \u001b[38;5;241m=\u001b[39m \u001b[43mexecutor\u001b[49m\u001b[38;5;241;43m.\u001b[39;49m\u001b[43msubmit\u001b[49m\u001b[43m(\u001b[49m\u001b[43m_process_frame_jpg\u001b[49m\u001b[43m,\u001b[49m\u001b[43m \u001b[49m\u001b[43mnext_frame_idx\u001b[49m\u001b[43m,\u001b[49m\u001b[43m \u001b[49m\u001b[43mjpg\u001b[49m\u001b[38;5;241;43m.\u001b[39;49m\u001b[43mtobytes\u001b[49m\u001b[43m(\u001b[49m\u001b[43m)\u001b[49m\u001b[43m)\u001b[49m\n\u001b[0;32m    110\u001b[0m inflight[fut] \u001b[38;5;241m=\u001b[39m next_frame_idx\n\u001b[0;32m    111\u001b[0m next_frame_idx \u001b[38;5;241m+\u001b[39m\u001b[38;5;241m=\u001b[39m \u001b[38;5;241m1\u001b[39m\n",
      "File \u001b[1;32mc:\\oit\\py25en\\WPy64-312101\\python\\Lib\\concurrent\\futures\\process.py:805\u001b[0m, in \u001b[0;36mProcessPoolExecutor.submit\u001b[1;34m(self, fn, *args, **kwargs)\u001b[0m\n\u001b[0;32m    803\u001b[0m \u001b[38;5;28;01mwith\u001b[39;00m \u001b[38;5;28mself\u001b[39m\u001b[38;5;241m.\u001b[39m_shutdown_lock:\n\u001b[0;32m    804\u001b[0m     \u001b[38;5;28;01mif\u001b[39;00m \u001b[38;5;28mself\u001b[39m\u001b[38;5;241m.\u001b[39m_broken:\n\u001b[1;32m--> 805\u001b[0m         \u001b[38;5;28;01mraise\u001b[39;00m BrokenProcessPool(\u001b[38;5;28mself\u001b[39m\u001b[38;5;241m.\u001b[39m_broken)\n\u001b[0;32m    806\u001b[0m     \u001b[38;5;28;01mif\u001b[39;00m \u001b[38;5;28mself\u001b[39m\u001b[38;5;241m.\u001b[39m_shutdown_thread:\n\u001b[0;32m    807\u001b[0m         \u001b[38;5;28;01mraise\u001b[39;00m \u001b[38;5;167;01mRuntimeError\u001b[39;00m(\u001b[38;5;124m'\u001b[39m\u001b[38;5;124mcannot schedule new futures after shutdown\u001b[39m\u001b[38;5;124m'\u001b[39m)\n",
      "\u001b[1;31mBrokenProcessPool\u001b[0m: A child process terminated abruptly, the process pool is not usable anymore"
     ]
    }
   ],
   "source": []
  },
  {
   "cell_type": "code",
   "execution_count": null,
   "id": "51397939",
   "metadata": {},
   "outputs": [],
   "source": []
  }
 ],
 "metadata": {
  "kernelspec": {
   "display_name": "Python 3",
   "language": "python",
   "name": "python3"
  },
  "language_info": {
   "codemirror_mode": {
    "name": "ipython",
    "version": 3
   },
   "file_extension": ".py",
   "mimetype": "text/x-python",
   "name": "python",
   "nbconvert_exporter": "python",
   "pygments_lexer": "ipython3",
   "version": "3.12.10"
  }
 },
 "nbformat": 4,
 "nbformat_minor": 5
}
